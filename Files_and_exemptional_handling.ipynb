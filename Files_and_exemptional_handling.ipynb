{
  "nbformat": 4,
  "nbformat_minor": 0,
  "metadata": {
    "colab": {
      "provenance": []
    },
    "kernelspec": {
      "name": "python3",
      "display_name": "Python 3"
    },
    "language_info": {
      "name": "python"
    }
  },
  "cells": [
    {
      "cell_type": "markdown",
      "source": [
        "1.What is the difference between interpreted and compiled languages?"
      ],
      "metadata": {
        "id": "OqKtq9e0k0q4"
      }
    },
    {
      "cell_type": "markdown",
      "source": [
        "->Compiled Languages\n",
        "\n",
        "In a compiled language, the entire source code is translated into machine code all at once before the program is executed.\n",
        "\n",
        "This translation is done by a program called a compiler.\n",
        "\n",
        "Examples: C, C++\n",
        "\n",
        "->Interpreted Languages\n",
        "\n",
        "An interpreted language is translated and executed line by line by another program called an interpreter.\n",
        "\n",
        " The interpreter reads a line of code, translates it into machine code, and then immediately executes it before moving to the next line.\n",
        "\n",
        " Examples: Python"
      ],
      "metadata": {
        "id": "WWUJsl8Jk-HR"
      }
    },
    {
      "cell_type": "markdown",
      "source": [
        "2.What is exception handling in Python?"
      ],
      "metadata": {
        "id": "HHJS94aBnwa-"
      }
    },
    {
      "cell_type": "markdown",
      "source": [
        "->Exception handling in Python is a way to manage and respond to errors that occur during the execution of a program. These errors, called exceptions, disrupt the normal flow of the code."
      ],
      "metadata": {
        "id": "HDQQLTVVn08G"
      }
    },
    {
      "cell_type": "markdown",
      "source": [
        "3.What is the purpose of the finally block in exception handling?"
      ],
      "metadata": {
        "id": "9rbpdwwDoa8M"
      }
    },
    {
      "cell_type": "markdown",
      "source": [
        "->The primary purpose of the finally block is for cleanup actions. It's used to guarantee that resources are properly released, even if an error interrupts the normal flow of the program."
      ],
      "metadata": {
        "id": "ZG3vWqmSoe7J"
      }
    },
    {
      "cell_type": "markdown",
      "source": [
        "4.What is logging in Python?"
      ],
      "metadata": {
        "id": "K6S2wtXsqLHW"
      }
    },
    {
      "cell_type": "markdown",
      "source": [
        "->Logging in Python is a way to record events that happen while a program is running. It provides a more structured and powerful alternative to simply using print() statements for debugging."
      ],
      "metadata": {
        "id": "Lm-a7zdCqaDe"
      }
    },
    {
      "cell_type": "markdown",
      "source": [
        "5.What is the significance of the __del__ method in Python?"
      ],
      "metadata": {
        "id": "AGbQU8skqgux"
      }
    },
    {
      "cell_type": "markdown",
      "source": [
        "->The __del__ method, also known as the destructor, is a special method in Python that is called when an object is about to be destroyed. Its primary significance lies in performing cleanup actions before an object is completely removed from memory."
      ],
      "metadata": {
        "id": "OYAh5hqbqpbc"
      }
    },
    {
      "cell_type": "markdown",
      "source": [
        "6.What is the difference between import and from ... import in Python?"
      ],
      "metadata": {
        "id": "0qfyTkzIONpk"
      }
    },
    {
      "cell_type": "markdown",
      "source": [
        "->import Statement\n",
        "\n",
        "\n",
        "The import statement brings the entire module into current namespace. We must use the module's name as a prefix to access its contents. This approach helps prevent naming conflicts, as we have functions with the same name from different modules.\n",
        "\n",
        "->The from ... import statement lets you import specific components directly from a module into your namespace."
      ],
      "metadata": {
        "id": "5lUDCzHYO5c2"
      }
    },
    {
      "cell_type": "markdown",
      "source": [
        "7.How can you handle multiple exceptions in Python?"
      ],
      "metadata": {
        "id": "nZC0m9a-PPLm"
      }
    },
    {
      "cell_type": "markdown",
      "source": [
        "->We can handle multiple exceptions in Python using a few different methods, each with its own use case. The most common  ways are using a single except block with a tuple of exceptions, or using multiple except blocks."
      ],
      "metadata": {
        "id": "WfRgyipkPgAq"
      }
    },
    {
      "cell_type": "markdown",
      "source": [
        "8.What is the purpose of the with statement when handling files in Python?"
      ],
      "metadata": {
        "id": "ER0_h4nwP4yz"
      }
    },
    {
      "cell_type": "markdown",
      "source": [
        "->The with statement in Python simplifies file handling by automatically managing resources, ensuring that files are properly closed even if an error occurs."
      ],
      "metadata": {
        "id": "dInPAtWVQG3Q"
      }
    },
    {
      "cell_type": "markdown",
      "source": [
        "9.What is the difference between multithreading and multiprocessing?"
      ],
      "metadata": {
        "id": "WS6KKB41RKIi"
      }
    },
    {
      "cell_type": "markdown",
      "source": [
        "->Multithreading\n",
        "\n",
        "\n",
        "Multithreading involves creating multiple threads within a single process. Threads share the same memory space, which allows for fast communication and data sharing between them.\n",
        "\n",
        "->Multiprocessing\n",
        "\n",
        "\n",
        "Multiprocessing involves creating multiple independent processes. Each process has its own separate memory space, which means they do not share data directly."
      ],
      "metadata": {
        "id": "jRRY9kH2RZ1T"
      }
    },
    {
      "cell_type": "markdown",
      "source": [
        "10.What are the advantages of using logging in a program?"
      ],
      "metadata": {
        "id": "VlPgZOxmR4Bh"
      }
    },
    {
      "cell_type": "markdown",
      "source": [
        "->Using logging in a program offers several advantages that are crucial for development, debugging, and maintenance. Instead of using print() statements, a dedicated logging system provides a more structured, flexible, and powerful way to track events and information."
      ],
      "metadata": {
        "id": "xZb8vHa_SBC8"
      }
    },
    {
      "cell_type": "markdown",
      "source": [
        "11.What is memory management in Python?"
      ],
      "metadata": {
        "id": "IEJMDHwBUhHO"
      }
    },
    {
      "cell_type": "markdown",
      "source": [
        "->Memory management in Python is the process by which Python handles memory allocation and deallocation for objects. It's a complex system that aims to make programming easier by abstracting away low-level memory operations, so developers don't have to manually manage memory.\n",
        "\n",
        "\n"
      ],
      "metadata": {
        "id": "8SBDaYnaUrDW"
      }
    },
    {
      "cell_type": "markdown",
      "source": [
        "12.What are the basic steps involved in exception handling in Python?"
      ],
      "metadata": {
        "id": "9sCN0CsLUshn"
      }
    },
    {
      "cell_type": "markdown",
      "source": [
        "->The basic steps involved in exception handling in Python are to use a try block to contain the code that might raise an error, followed by an except block to define how to handle that error. we can include else and finally blocks for additional control."
      ],
      "metadata": {
        "id": "Pn32eda9gbep"
      }
    },
    {
      "cell_type": "markdown",
      "source": [
        "13.Why is memory management important in Python?"
      ],
      "metadata": {
        "id": "sdp1-88bgl8a"
      }
    },
    {
      "cell_type": "markdown",
      "source": [
        "->Memory management is important in Python because it automates the process of allocating and deallocating memory, preventing common errors and making programming easier. It ensures efficient use of system resources and helps maintain the stability and performance of applications"
      ],
      "metadata": {
        "id": "MLzuXdPShTpI"
      }
    },
    {
      "cell_type": "markdown",
      "source": [
        "14.What is the role of try and except in exception handling?"
      ],
      "metadata": {
        "id": "2UPv5CrOhcti"
      }
    },
    {
      "cell_type": "markdown",
      "source": [
        "->The try and except blocks are the core components of exception handling in Python. The try block contains code that might raise an exception, while the except block defines how to handle that exception, preventing the program from crashing.\n",
        "\n"
      ],
      "metadata": {
        "id": "bQo6yWEfhyoN"
      }
    },
    {
      "cell_type": "markdown",
      "source": [
        "15.How does Python's garbage collection system work?"
      ],
      "metadata": {
        "id": "56xzj_yUh4VT"
      }
    },
    {
      "cell_type": "markdown",
      "source": [
        "->Python's garbage collection system works by automatically reclaiming memory that is no longer being used. Its primary mechanism is reference counting, which is supplemented by a generational garbage collector to handle circular references.\n",
        "\n"
      ],
      "metadata": {
        "id": "jcadoM8rh8lc"
      }
    },
    {
      "cell_type": "markdown",
      "source": [
        "16.What is the purpose of the else block in exception handling?"
      ],
      "metadata": {
        "id": "Ne-EWzG2iFnj"
      }
    },
    {
      "cell_type": "markdown",
      "source": [
        "->The purpose of the else block in Python's exception handling is to define a block of code that should only be executed if the try block completes successfully, without any exceptions. It serves as a way to separate the code that might fail from the code that relies on the success of the try block.\n",
        "\n"
      ],
      "metadata": {
        "id": "6xfrKEryiLfX"
      }
    },
    {
      "cell_type": "markdown",
      "source": [
        "17.What are the common logging levels in Python?"
      ],
      "metadata": {
        "id": "dmFH1WJyiRP1"
      }
    },
    {
      "cell_type": "markdown",
      "source": [
        "->The common logging levels in Python are a set of predefined constants that define the severity of a message. They allow you to filter messages and control the amount of detail you want to log, making it easier to debug during development and monitor applications in production.\n",
        "\n"
      ],
      "metadata": {
        "id": "dWToS2NKjLCe"
      }
    },
    {
      "cell_type": "markdown",
      "source": [
        "18.What is the difference between os.fork() and multiprocessing in Python?"
      ],
      "metadata": {
        "id": "qNng9ex0jdrz"
      }
    },
    {
      "cell_type": "markdown",
      "source": [
        "->os.fork()\n",
        "\n",
        "\n",
        "The os.fork() method is a low-level, Unix-only system call. When os.fork() is called, it creates a duplicate of the current process, called the child process\n",
        "\n",
        "->multiprocessing\n",
        "\n",
        "\n",
        "The multiprocessing module is a high-level, cross-platform library built on top of process management functions. It provides a clean, object-oriented API for creating and managing processes."
      ],
      "metadata": {
        "id": "XS-3COvAjpnA"
      }
    },
    {
      "cell_type": "markdown",
      "source": [
        "19.What is the importance of closing a file in Python?"
      ],
      "metadata": {
        "id": "PxxuXMNdj7jR"
      }
    },
    {
      "cell_type": "markdown",
      "source": [
        "->When a file is left open, another program might try to access it, leading to conflicts. By closing the file, you release the lock on it, making it available for other programs to use safely."
      ],
      "metadata": {
        "id": "3dUsPfTKkLCW"
      }
    },
    {
      "cell_type": "markdown",
      "source": [
        "20.What is the difference between file.read() and file.readline() in Python?"
      ],
      "metadata": {
        "id": "BigDLJSQkMjT"
      }
    },
    {
      "cell_type": "markdown",
      "source": [
        "->file.read()\n",
        "\n",
        "file.read() reads the entire content of a file into a single string.\n",
        "\n",
        "->file.readline()\n",
        "\n",
        "file.readline() reads a file one line at a time."
      ],
      "metadata": {
        "id": "7SpKf9LbkWq0"
      }
    },
    {
      "cell_type": "markdown",
      "source": [
        "21.What is the logging module in Python used for?"
      ],
      "metadata": {
        "id": "va_lT8-ykh8t"
      }
    },
    {
      "cell_type": "markdown",
      "source": [
        "->The logging module in Python is used for tracking events  messages from a program. It provides a flexible and powerful framework for recording information about a program's execution,"
      ],
      "metadata": {
        "id": "QSrmOghhkm2-"
      }
    },
    {
      "cell_type": "markdown",
      "source": [
        "22.What is the os module in Python used for in file handling?"
      ],
      "metadata": {
        "id": "TdeRCGM8kvvk"
      }
    },
    {
      "cell_type": "markdown",
      "source": [
        "->The os module in Python provides a way to interact with the operating system, and in the context of file handling, it's primarily used for managing file paths, directories, and performing low-level file system operations"
      ],
      "metadata": {
        "id": "9WaQwgvPkz0K"
      }
    },
    {
      "cell_type": "markdown",
      "source": [
        "23.What are the challenges associated with memory management in Python?"
      ],
      "metadata": {
        "id": "W5Y5NyNjlDSE"
      }
    },
    {
      "cell_type": "markdown",
      "source": [
        "->Python's primary memory management tool, reference counting, can't handle circular references. A circular reference occurs when two or more objects hold references to each other, forming a closed loop"
      ],
      "metadata": {
        "id": "1v6SuNjYlHY-"
      }
    },
    {
      "cell_type": "markdown",
      "source": [
        "24. How do you raise an exception manually in Python?"
      ],
      "metadata": {
        "id": "Py1qhiU2lSBm"
      }
    },
    {
      "cell_type": "markdown",
      "source": [
        "->We can manually raise an exception in Python using the raise statement. This is useful when we want to stop the normal flow of a program and signal that an error condition has occurred.\n",
        "\n"
      ],
      "metadata": {
        "id": "LvGuGquNlVs-"
      }
    },
    {
      "cell_type": "markdown",
      "source": [
        "25. Why is it important to use multithreading in certain applications?"
      ],
      "metadata": {
        "id": "ISjGgG6Wlf5K"
      }
    },
    {
      "cell_type": "markdown",
      "source": [
        "->Multithreading solves this problem by allowing your program to have multiple threads of execution running at the same time within a single process"
      ],
      "metadata": {
        "id": "rpGTWOBAlvP-"
      }
    },
    {
      "cell_type": "markdown",
      "source": [
        "#PRACTICAL PROBLEMS"
      ],
      "metadata": {
        "id": "hvMVUkqZl3Z5"
      }
    },
    {
      "cell_type": "markdown",
      "source": [
        "1.How can you open a file for writing in Python and write a string to it?"
      ],
      "metadata": {
        "id": "Et64ZrOyl7QQ"
      }
    },
    {
      "cell_type": "code",
      "source": [
        "try:\n",
        "    with open(\"my_file.txt\", \"w\") as file:\n",
        "        file.write(\"Hello, this is a test string written to the file.\")\n",
        "    print(\"Successfully wrote to 'my_file.txt'\")\n",
        "except IOError as e:\n",
        "    print(f\"An error occurred while writing to the file: {e}\")"
      ],
      "metadata": {
        "colab": {
          "base_uri": "https://localhost:8080/"
        },
        "id": "lX7HeyS3kzrl",
        "outputId": "8aa05efa-d6fb-4c33-d942-c8fdbbee325a"
      },
      "execution_count": 17,
      "outputs": [
        {
          "output_type": "stream",
          "name": "stdout",
          "text": [
            "Successfully wrote to 'my_file.txt'\n"
          ]
        }
      ]
    },
    {
      "cell_type": "markdown",
      "source": [
        "2.Write a Python program to read the contents of a file and print each line?"
      ],
      "metadata": {
        "id": "ELiF5m9nlOXU"
      }
    },
    {
      "cell_type": "code",
      "source": [
        "file_path = \"my_file.txt\"\n",
        "\n",
        "try:\n",
        "    with open(file_path, \"r\") as file:\n",
        "        print(f\"Contents of {file_path}:\")\n",
        "        for line in file:\n",
        "            print(line, end='')\n",
        "\n",
        "except FileNotFoundError:\n",
        "    print(f\"Error: The file '{file_path}' was not found.\")\n",
        "except IOError as e:\n",
        "    print(f\"An error occurred while reading the file: {e}\")"
      ],
      "metadata": {
        "colab": {
          "base_uri": "https://localhost:8080/"
        },
        "id": "p2-tvD1js6dG",
        "outputId": "eb26eedb-14b1-47a7-909c-89e6055a812c"
      },
      "execution_count": 20,
      "outputs": [
        {
          "output_type": "stream",
          "name": "stdout",
          "text": [
            "Contents of my_file.txt:\n",
            "Hello, my name is Ambhruni currently i am pursuing data analytics cousre"
          ]
        }
      ]
    },
    {
      "cell_type": "markdown",
      "source": [
        "3.How would you handle a case where the file doesn't exist while trying to open it for reading"
      ],
      "metadata": {
        "id": "FdBQ8gemt9or"
      }
    },
    {
      "cell_type": "code",
      "source": [
        "file_path = \"non_existent_file.txt\"\n",
        "\n",
        "try:\n",
        "    with open(file_path, \"r\") as file:\n",
        "        print(f\"Successfully opened and read '{file_path}'\")\n",
        "except FileNotFoundError:\n",
        "    print(f\"Error: The file '{file_path}' was not found. Please check the file path.\")\n",
        "except IOError as e:\n",
        "    print(f\"An error occurred while reading the file: {e}\")"
      ],
      "metadata": {
        "colab": {
          "base_uri": "https://localhost:8080/"
        },
        "id": "xuZ6qcm9uCCo",
        "outputId": "dd59cf9e-9adb-4cd1-97e2-1fd2e6dc724e"
      },
      "execution_count": 21,
      "outputs": [
        {
          "output_type": "stream",
          "name": "stdout",
          "text": [
            "Error: The file 'non_existent_file.txt' was not found. Please check the file path.\n"
          ]
        }
      ]
    },
    {
      "cell_type": "markdown",
      "source": [
        "4.Write a Python script that reads from one file and writes its content to another file"
      ],
      "metadata": {
        "id": "vueTayj7ueKW"
      }
    },
    {
      "cell_type": "code",
      "source": [
        "source_file = \"my_file.txt\"\n",
        "destination_file = \"my_file_copy.txt\"\n",
        "\n",
        "try:\n",
        "    with open(source_file, \"r\") as infile:\n",
        "      with open(destination_file, \"w\") as outfile:\n",
        "            content = infile.read()\n",
        "            outfile.write(content)\n",
        "            print(f\"Successfully copied content from '{source_file}' to '{destination_file}'\")\n",
        "except FileNotFoundError:\n",
        "    print(f\"Error: The source file '{source_file}' was not found.\")\n",
        "except IOError as e:\n",
        "    print(f\"An error occurred while reading or writing the file: {e}\")"
      ],
      "metadata": {
        "colab": {
          "base_uri": "https://localhost:8080/"
        },
        "id": "KbowBT49ui0D",
        "outputId": "2082eda1-f639-42fe-a17e-507b4f014bc6"
      },
      "execution_count": 22,
      "outputs": [
        {
          "output_type": "stream",
          "name": "stdout",
          "text": [
            "Successfully copied content from 'my_file.txt' to 'my_file_copy.txt'\n"
          ]
        }
      ]
    },
    {
      "cell_type": "markdown",
      "source": [
        "5.How would you catch and handle division by zero error in Python"
      ],
      "metadata": {
        "id": "WrYkK-iry91a"
      }
    },
    {
      "cell_type": "code",
      "source": [
        "try:\n",
        "    numerator = 10\n",
        "    denominator = 0\n",
        "    result = numerator / denominator\n",
        "    print(f\"The result is: {result}\")\n",
        "except ZeroDivisionError:\n",
        "    print(\"Error: Cannot divide by zero!\")\n",
        "except Exception as e:\n",
        "    print(f\"An unexpected error occurred: {e}\")"
      ],
      "metadata": {
        "colab": {
          "base_uri": "https://localhost:8080/"
        },
        "id": "TByLqjXqzEKT",
        "outputId": "e1ea8dfb-11e7-46c5-ee81-0a16ad908726"
      },
      "execution_count": 23,
      "outputs": [
        {
          "output_type": "stream",
          "name": "stdout",
          "text": [
            "Error: Cannot divide by zero!\n"
          ]
        }
      ]
    },
    {
      "cell_type": "markdown",
      "source": [
        "6.Write a Python program that logs an error message to a log file when a division by zero exception occurs"
      ],
      "metadata": {
        "id": "a3ZyzF5yzUpL"
      }
    },
    {
      "cell_type": "code",
      "source": [
        "import logging\n",
        "\n",
        "\n",
        "logging.basicConfig(filename='error.log', level=logging.ERROR,\n",
        "                    format='%(asctime)s:%(levelname)s:%(message)s')\n",
        "\n",
        "try:\n",
        "    numerator = 10\n",
        "    denominator = 0\n",
        "    result = numerator / denominator\n",
        "    print(f\"The result is: {result}\")\n",
        "except ZeroDivisionError:\n",
        "    logging.error(\"Division by zero occurred.\")\n",
        "    print(\"Error: Cannot divide by zero! Check the error.log file for details.\")\n",
        "except Exception as e:\n",
        "    logging.error(f\"An unexpected error occurred: {e}\")\n",
        "    print(f\"An unexpected error occurred: {e}. Check the error.log file for details.\")"
      ],
      "metadata": {
        "colab": {
          "base_uri": "https://localhost:8080/"
        },
        "id": "UKLwU_-NzhGf",
        "outputId": "5ff06f93-9302-4241-8be9-6e0ebda81fac"
      },
      "execution_count": 24,
      "outputs": [
        {
          "output_type": "stream",
          "name": "stderr",
          "text": [
            "ERROR:root:Division by zero occurred.\n"
          ]
        },
        {
          "output_type": "stream",
          "name": "stdout",
          "text": [
            "Error: Cannot divide by zero! Check the error.log file for details.\n"
          ]
        }
      ]
    },
    {
      "cell_type": "markdown",
      "source": [
        "7.How do you log information at different levels (INFO, ERROR, WARNING) in Python using the logging module"
      ],
      "metadata": {
        "id": "OsX_-CUrzwfL"
      }
    },
    {
      "cell_type": "code",
      "source": [
        "import logging\n",
        "logging.basicConfig(level=logging.INFO, format='%(asctime)s - %(levelname)s - %(message)s')\n",
        "logging.debug(\"This is a debug message.\")\n",
        "logging.info(\"This is an info message.\")\n",
        "logging.warning(\"This is a warning message.\")\n",
        "logging.error(\"This is an error message.\")\n",
        "logging.critical(\"This is a critical message.\")"
      ],
      "metadata": {
        "colab": {
          "base_uri": "https://localhost:8080/"
        },
        "id": "0AnKaqRV0C_L",
        "outputId": "43490db1-0469-45c6-9aa8-188fea65dbd8"
      },
      "execution_count": 25,
      "outputs": [
        {
          "output_type": "stream",
          "name": "stderr",
          "text": [
            "WARNING:root:This is a warning message.\n",
            "ERROR:root:This is an error message.\n",
            "CRITICAL:root:This is a critical message.\n"
          ]
        }
      ]
    },
    {
      "cell_type": "markdown",
      "source": [
        "8.Write a program to handle a file opening error using exception handling"
      ],
      "metadata": {
        "id": "WIUroQZh0SQ7"
      }
    },
    {
      "cell_type": "code",
      "source": [
        "file_path = \"non_existent_file.txt\"\n",
        "\n",
        "try:\n",
        "    with open(file_path, \"r\") as file:\n",
        "        print(f\"Successfully opened and read '{file_path}'\")\n",
        "except FileNotFoundError:\n",
        "    print(f\"Error: The file '{file_path}' was not found.\")\n",
        "except IOError as e:\n",
        "    print(f\"An error occurred while opening or reading the file: {e}\")"
      ],
      "metadata": {
        "colab": {
          "base_uri": "https://localhost:8080/"
        },
        "id": "m-y1LDMz0XlO",
        "outputId": "3da8df57-9e8e-4823-fde4-c7248bde4f91"
      },
      "execution_count": 26,
      "outputs": [
        {
          "output_type": "stream",
          "name": "stdout",
          "text": [
            "Error: The file 'non_existent_file.txt' was not found.\n"
          ]
        }
      ]
    },
    {
      "cell_type": "markdown",
      "source": [
        "9.How can you read a file line by line and store its content in a list in Python?"
      ],
      "metadata": {
        "id": "EG1bzfc-0xR3"
      }
    },
    {
      "cell_type": "code",
      "source": [
        "file_path = \"my_file.txt\"\n",
        "lines_list = []\n",
        "\n",
        "try:\n",
        "    with open(file_path, \"r\") as file:\n",
        "        for line in file:\n",
        "            lines_list.append(line.strip())\n",
        "\n",
        "    print(f\"Contents of '{file_path}' stored in a list:\")\n",
        "    print(lines_list)\n",
        "\n",
        "except FileNotFoundError:\n",
        "    print(f\"Error: The file '{file_path}' was not found.\")\n",
        "except IOError as e:\n",
        "    print(f\"An error occurred while reading the file: {e}\")"
      ],
      "metadata": {
        "colab": {
          "base_uri": "https://localhost:8080/"
        },
        "id": "1WDb-O1I025l",
        "outputId": "70bb444d-c33f-4a01-db07-3cc6d411e3f3"
      },
      "execution_count": 27,
      "outputs": [
        {
          "output_type": "stream",
          "name": "stdout",
          "text": [
            "Contents of 'my_file.txt' stored in a list:\n",
            "['Hello, my name is Ambhruni currently i am pursuing data analytics cousre']\n"
          ]
        }
      ]
    },
    {
      "cell_type": "markdown",
      "source": [
        "10.How can you append data to an existing file in Python?"
      ],
      "metadata": {
        "id": "Ry19PGU21Hqe"
      }
    },
    {
      "cell_type": "code",
      "source": [
        "file_path = \"my_file.txt\"\n",
        "data_to_append = \"\\nThis is a new line of text to be appended.\"\n",
        "\n",
        "try:\n",
        "    with open(file_path, \"a\") as file:\n",
        "        file.write(data_to_append)\n",
        "\n",
        "    print(f\"Successfully appended data to '{file_path}'\")\n",
        "\n",
        "except IOError as e:\n",
        "    print(f\"An error occurred while appending to the file: {e}\")"
      ],
      "metadata": {
        "colab": {
          "base_uri": "https://localhost:8080/"
        },
        "id": "oNTo7rM81NH3",
        "outputId": "9add530f-f85c-4961-8f23-93e84f118329"
      },
      "execution_count": 28,
      "outputs": [
        {
          "output_type": "stream",
          "name": "stdout",
          "text": [
            "Successfully appended data to 'my_file.txt'\n"
          ]
        }
      ]
    },
    {
      "cell_type": "markdown",
      "source": [
        "11.Write a Python program that uses a try-except block to handle an error when attempting to access a\n",
        "dictionary key that doesn't existF"
      ],
      "metadata": {
        "id": "QBw1XYeP1hSc"
      }
    },
    {
      "cell_type": "code",
      "source": [
        "my_dict = {\"name\": \"Alice\", \"age\": 30}\n",
        "\n",
        "try:\n",
        "    city = my_dict[\"city\"]\n",
        "    print(f\"City: {city}\")\n",
        "except KeyError:\n",
        "    print(\"Error: The specified dictionary key was not found.\")\n",
        "except Exception as e:\n",
        "    print(f\"An unexpected error occurred: {e}\")"
      ],
      "metadata": {
        "colab": {
          "base_uri": "https://localhost:8080/"
        },
        "id": "Y31fwz5U1mog",
        "outputId": "3565fa14-a818-467c-b055-0e593d1140dd"
      },
      "execution_count": 29,
      "outputs": [
        {
          "output_type": "stream",
          "name": "stdout",
          "text": [
            "Error: The specified dictionary key was not found.\n"
          ]
        }
      ]
    },
    {
      "cell_type": "markdown",
      "source": [
        "12.Write a program that demonstrates using multiple except blocks to handle different types of exceptions"
      ],
      "metadata": {
        "id": "e6h5buVi11s1"
      }
    },
    {
      "cell_type": "code",
      "source": [
        "try:\n",
        "    with open(\"non_existent_file.txt\", \"r\") as file:\n",
        "        file.read()\n",
        "\n",
        "except ZeroDivisionError:\n",
        "    print(\"Error: Cannot divide by zero!\")\n",
        "except KeyError:\n",
        "    print(\"Error: Dictionary key not found!\")\n",
        "except FileNotFoundError:\n",
        "    print(\"Error: File not found!\")\n",
        "except Exception as e:\n",
        "    print(f\"An unexpected error occurred: {e}\")"
      ],
      "metadata": {
        "colab": {
          "base_uri": "https://localhost:8080/"
        },
        "id": "DDK1RtZD18sX",
        "outputId": "3bfe9003-65d2-446a-defe-6a4fca97cf74"
      },
      "execution_count": 30,
      "outputs": [
        {
          "output_type": "stream",
          "name": "stdout",
          "text": [
            "Error: File not found!\n"
          ]
        }
      ]
    },
    {
      "cell_type": "markdown",
      "source": [
        "13. How would you check if a file exists before attempting to read it in Python"
      ],
      "metadata": {
        "id": "pPMY2ilj2T8e"
      }
    },
    {
      "cell_type": "code",
      "source": [
        "import os\n",
        "\n",
        "file_path = \"my_file.txt\"\n",
        "if os.path.exists(file_path):\n",
        "    print(f\"The file '{file_path}' exists. Proceeding to read.\")\n",
        "    try:\n",
        "        with open(file_path, \"r\") as file:\n",
        "            content = file.read()\n",
        "            print(\"File content:\")\n",
        "            print(content)\n",
        "    except IOError as e:\n",
        "        print(f\"An error occurred while reading the file: {e}\")\n",
        "else:\n",
        "    print(f\"Error: The file '{file_path}' does not exist.\")"
      ],
      "metadata": {
        "colab": {
          "base_uri": "https://localhost:8080/"
        },
        "id": "qs_gosdl2cnc",
        "outputId": "e56fa516-991f-4498-eac3-a23b64c034a2"
      },
      "execution_count": 31,
      "outputs": [
        {
          "output_type": "stream",
          "name": "stdout",
          "text": [
            "The file 'my_file.txt' exists. Proceeding to read.\n",
            "File content:\n",
            "Hello, my name is Ambhruni currently i am pursuing data analytics cousre\n",
            "This is a new line of text to be appended.\n"
          ]
        }
      ]
    },
    {
      "cell_type": "markdown",
      "source": [
        "14.Write a program that uses the logging module to log both informational and error messages"
      ],
      "metadata": {
        "id": "ua52ZRU_2qTw"
      }
    },
    {
      "cell_type": "code",
      "source": [
        "import logging\n",
        "logging.basicConfig(level=logging.INFO, format='%(asctime)s - %(levelname)s - %(message)s')\n",
        "logging.info(\"This is an informational message.\")\n",
        "try:\n",
        "    result = 10 / 0\n",
        "except ZeroDivisionError:\n",
        "    logging.error(\"Attempted to divide by zero.\")\n",
        "    print(\"An error occurred (division by zero). Check logs for details.\")\n",
        "logging.info(\"Program finished.\")"
      ],
      "metadata": {
        "colab": {
          "base_uri": "https://localhost:8080/"
        },
        "id": "0fgETmA_2wBj",
        "outputId": "5e2c6386-7446-4ee9-999c-61da788f24f2"
      },
      "execution_count": 32,
      "outputs": [
        {
          "output_type": "stream",
          "name": "stderr",
          "text": [
            "ERROR:root:Attempted to divide by zero.\n"
          ]
        },
        {
          "output_type": "stream",
          "name": "stdout",
          "text": [
            "An error occurred (division by zero). Check logs for details.\n"
          ]
        }
      ]
    },
    {
      "cell_type": "markdown",
      "source": [
        "15.Write a Python program that prints the content of a file and handles the case when the file is empty"
      ],
      "metadata": {
        "id": "r5GZAiF_3CHz"
      }
    },
    {
      "cell_type": "code",
      "source": [
        "file_path = \"my_file.txt\"\n",
        "\n",
        "try:\n",
        "    with open(file_path, \"r\") as file:\n",
        "        content = file.read()\n",
        "\n",
        "        if content:\n",
        "            print(f\"Content of '{file_path}':\")\n",
        "            print(content)\n",
        "        else:\n",
        "            print(f\"The file '{file_path}' is empty.\")\n",
        "\n",
        "except FileNotFoundError:\n",
        "    print(f\"Error: The file '{file_path}' was not found.\")\n",
        "except IOError as e:\n",
        "    print(f\"An error occurred while reading the file: {e}\")"
      ],
      "metadata": {
        "colab": {
          "base_uri": "https://localhost:8080/"
        },
        "id": "ray0UJIT3bYQ",
        "outputId": "e7d0693c-543a-414e-acc9-93258b71b199"
      },
      "execution_count": 36,
      "outputs": [
        {
          "output_type": "stream",
          "name": "stdout",
          "text": [
            "Content of 'my_file.txt':\n",
            "Hello, my name is Ambhruni currently i am pursuing data analytics cousre\n",
            "This is a new line of text to be appended.\n"
          ]
        }
      ]
    },
    {
      "cell_type": "markdown",
      "source": [
        "16.Demonstrate how to use memory profiling to check the memory usage of a small program"
      ],
      "metadata": {
        "id": "llnCjLOT3lal"
      }
    },
    {
      "cell_type": "code",
      "metadata": {
        "colab": {
          "base_uri": "https://localhost:8080/"
        },
        "id": "a0f1037a",
        "outputId": "62194eb4-b1e7-4827-f151-7f79b0b8d6ee"
      },
      "source": [
        "%%memit\n",
        "def create_list_of_zeros(size):\n",
        "    \"\"\"Creates a list of zeros with the given size.\"\"\"\n",
        "    data = [0] * size\n",
        "    return data\n",
        "    my_list = create_list_of_zeros(1000000)"
      ],
      "execution_count": 37,
      "outputs": [
        {
          "output_type": "stream",
          "name": "stderr",
          "text": [
            "UsageError: Cell magic `%%memit` not found.\n"
          ]
        }
      ]
    },
    {
      "cell_type": "markdown",
      "source": [
        "17.Write a Python program to create and write a list of numbers to a file, one number per line"
      ],
      "metadata": {
        "id": "7RSfupBV4KeO"
      }
    },
    {
      "cell_type": "code",
      "source": [
        "numbers = [10, 20, 30, 40, 50]\n",
        "file_path = \"numbers.txt\"\n",
        "\n",
        "try:\n",
        "\n",
        "    with open(file_path, \"w\") as file:\n",
        "\n",
        "        for number in numbers:\n",
        "            file.write(str(number) + \"\\n\")\n",
        "        print(f\"Successfully wrote numbers to '{file_path}'\")\n",
        "\n",
        "except IOError as e:\n",
        "    print(f\"An error occurred while writing to the file: {e}\")"
      ],
      "metadata": {
        "colab": {
          "base_uri": "https://localhost:8080/"
        },
        "id": "RBQv2Aj04bnf",
        "outputId": "bc6c79c1-2d94-4005-81c3-c4878aca97ac"
      },
      "execution_count": 40,
      "outputs": [
        {
          "output_type": "stream",
          "name": "stdout",
          "text": [
            "Successfully wrote numbers to 'numbers.txt'\n"
          ]
        }
      ]
    },
    {
      "cell_type": "markdown",
      "source": [
        "18. How would you implement a basic logging setup that logs to a file with rotation after 1MB"
      ],
      "metadata": {
        "id": "Alzy21SU4q_4"
      }
    },
    {
      "cell_type": "code",
      "source": [
        "import logging\n",
        "from logging.handlers import RotatingFileHandler\n",
        "import time\n",
        "logger = logging.getLogger(\"MyRotatingLog\")\n",
        "logger.setLevel(logging.INFO)\n",
        "handler = RotatingFileHandler(\"my_rotating_log.log\", maxBytes=1024 * 1024, backupCount=5)\n",
        "formatter = logging.Formatter('%(asctime)s - %(name)s - %(levelname)s - %(message)s')\n",
        "handler.setFormatter(formatter)\n",
        "logger.addHandler(handler)\n",
        "logger.info(\"This is an informational message.\")\n",
        "logger.warning(\"This is a warning message.\")\n",
        "logger.error(\"This is an error message.\")\n",
        "print(\"Log messages written to 'my_rotating_log.log'. Run this cell multiple times to see file rotation.\")"
      ],
      "metadata": {
        "colab": {
          "base_uri": "https://localhost:8080/"
        },
        "id": "xweUvOZk4utq",
        "outputId": "681a3ff2-c2e9-4b12-8a48-873affd70f99"
      },
      "execution_count": 41,
      "outputs": [
        {
          "output_type": "stream",
          "name": "stderr",
          "text": [
            "INFO:MyRotatingLog:This is an informational message.\n",
            "WARNING:MyRotatingLog:This is a warning message.\n",
            "ERROR:MyRotatingLog:This is an error message.\n"
          ]
        },
        {
          "output_type": "stream",
          "name": "stdout",
          "text": [
            "Log messages written to 'my_rotating_log.log'. Run this cell multiple times to see file rotation.\n"
          ]
        }
      ]
    },
    {
      "cell_type": "markdown",
      "source": [
        "19.Write a program that handles both IndexError and KeyError using a try-except block"
      ],
      "metadata": {
        "id": "BNZpL-DO5GrY"
      }
    },
    {
      "cell_type": "code",
      "source": [
        "def access_data(data, key_or_index):\n",
        "    try:\n",
        "        value = data[key_or_index]\n",
        "        print(f\"Accessed value: {value}\")\n",
        "    except (KeyError, IndexError):\n",
        "      print(f\"Error: Invalid key or index '{key_or_index}'\")\n",
        "    except Exception as e:\n",
        "      print(f\"An unexpected error occurred: {e}\")\n",
        "my_dict = {\"name\": \"Alice\", \"age\": 30}\n",
        "access_data(my_dict, \"name\")\n",
        "access_data(my_dict, \"city\")\n",
        "print(\"-\" * 20)\n",
        "my_list = [10, 20, 30]\n",
        "access_data(my_list, 1)\n",
        "access_data(my_list, 5)\n",
        "access_data(my_list, \"a\")"
      ],
      "metadata": {
        "colab": {
          "base_uri": "https://localhost:8080/"
        },
        "id": "WLkHvrHL5KXJ",
        "outputId": "7bdda3f3-4e7d-47f0-be65-e5910d2c6294"
      },
      "execution_count": 42,
      "outputs": [
        {
          "output_type": "stream",
          "name": "stdout",
          "text": [
            "Accessed value: Alice\n",
            "Error: Invalid key or index 'city'\n",
            "--------------------\n",
            "Accessed value: 20\n",
            "Error: Invalid key or index '5'\n",
            "An unexpected error occurred: list indices must be integers or slices, not str\n"
          ]
        }
      ]
    },
    {
      "cell_type": "markdown",
      "source": [
        "20.How would you open a file and read its contents using a context manager in Python"
      ],
      "metadata": {
        "id": "X5q_1bUI5gif"
      }
    },
    {
      "cell_type": "code",
      "source": [
        "file_path = \"my_file.txt\"\n",
        "\n",
        "try:\n",
        "    with open(file_path, \"r\") as file:\n",
        "        content = file.read()\n",
        "        print(f\"Content of '{file_path}':\")\n",
        "        print(content)\n",
        "\n",
        "except FileNotFoundError:\n",
        "    print(f\"Error: The file '{file_path}' was not found.\")\n",
        "except IOError as e:\n",
        "    print(f\"An error occurred while reading the file: {e}\")"
      ],
      "metadata": {
        "colab": {
          "base_uri": "https://localhost:8080/"
        },
        "id": "vomw8iyC5ky9",
        "outputId": "2a49005a-9029-4dee-ed4b-b9abbc56736c"
      },
      "execution_count": 43,
      "outputs": [
        {
          "output_type": "stream",
          "name": "stdout",
          "text": [
            "Content of 'my_file.txt':\n",
            "Hello, my name is Ambhruni currently i am pursuing data analytics cousre\n",
            "This is a new line of text to be appended.\n"
          ]
        }
      ]
    },
    {
      "cell_type": "markdown",
      "source": [
        "21.Write a Python program that reads a file and prints the number of occurrences of a specific word"
      ],
      "metadata": {
        "id": "3VEauE9g5zEx"
      }
    },
    {
      "cell_type": "code",
      "source": [
        "file_path = \"my_file.txt\"\n",
        "word_to_find = \"Ambhruni\"\n",
        "\n",
        "try:\n",
        "    with open(file_path, \"r\") as file:\n",
        "        content = file.read().lower()\n",
        "        word_count = content.count(word_to_find.lower())\n",
        "\n",
        "    print(f\"The word '{word_to_find}' appears {word_count} times in '{file_path}'.\")\n",
        "\n",
        "except FileNotFoundError:\n",
        "    print(f\"Error: The file '{file_path}' was not found.\")\n",
        "except IOError as e:\n",
        "    print(f\"An error occurred while reading the file: {e}\")"
      ],
      "metadata": {
        "colab": {
          "base_uri": "https://localhost:8080/"
        },
        "id": "ztAcZuPM59mF",
        "outputId": "035de853-f7e4-4224-9afa-977ec761678b"
      },
      "execution_count": 44,
      "outputs": [
        {
          "output_type": "stream",
          "name": "stdout",
          "text": [
            "The word 'Ambhruni' appears 1 times in 'my_file.txt'.\n"
          ]
        }
      ]
    },
    {
      "cell_type": "markdown",
      "source": [
        "22.How can you check if a file is empty before attempting to read its contents"
      ],
      "metadata": {
        "id": "GL9PNsp06MAd"
      }
    },
    {
      "cell_type": "code",
      "source": [
        "import os\n",
        "\n",
        "file_path = \"my_file.txt\" # Replace with your file name\n",
        "\n",
        "try:\n",
        "    if os.path.exists(file_path):\n",
        "        if os.path.getsize(file_path) > 0:\n",
        "            print(f\"The file '{file_path}' is not empty. Proceeding to read.\")\n",
        "            with open(file_path, \"r\") as file:\n",
        "                content = file.read()\n",
        "                print(\"File content:\")\n",
        "                print(content)\n",
        "        else:\n",
        "            print(f\"The file '{file_path}' is empty.\")\n",
        "    else:\n",
        "        print(f\"Error: The file '{file_path}' does not exist.\")\n",
        "\n",
        "except FileNotFoundError:\n",
        "    print(f\"Error: The file '{file_path}' was not found.\")\n",
        "except IOError as e:\n",
        "    print(f\"An error occurred while accessing or reading the file: {e}\")"
      ],
      "metadata": {
        "colab": {
          "base_uri": "https://localhost:8080/"
        },
        "id": "XGOPgFIH6RcJ",
        "outputId": "6712834a-c751-4922-f391-60750f1db561"
      },
      "execution_count": 45,
      "outputs": [
        {
          "output_type": "stream",
          "name": "stdout",
          "text": [
            "The file 'my_file.txt' is not empty. Proceeding to read.\n",
            "File content:\n",
            "Hello, my name is Ambhruni currently i am pursuing data analytics cousre\n",
            "This is a new line of text to be appended.\n"
          ]
        }
      ]
    },
    {
      "cell_type": "markdown",
      "source": [
        "23.Write a Python program that writes to a log file when an error occurs during file handling"
      ],
      "metadata": {
        "id": "kv67vaGA6hLZ"
      }
    },
    {
      "cell_type": "code",
      "source": [
        "import logging\n",
        "\n",
        "\n",
        "logging.basicConfig(filename='file_errors.log', level=logging.ERROR,\n",
        "                    format='%(asctime)s:%(levelname)s:%(message)s')\n",
        "\n",
        "file_path = \"non_existent_or_problematic_file.txt\"\n",
        "\n",
        "try:\n",
        "    with open(file_path, \"r\") as file:\n",
        "        content = file.read()\n",
        "        print(f\"Successfully read content from '{file_path}'\")\n",
        "except FileNotFoundError:\n",
        "    logging.error(f\"File not found error occurred while trying to access '{file_path}'.\")\n",
        "    print(f\"Error: The file '{file_path}' was not found. Details logged.\")\n",
        "except IOError as e:\n",
        "    logging.error(f\"IOError occurred while trying to access '{file_path}': {e}\")\n",
        "    print(f\"An I/O error occurred while accessing '{file_path}'. Details logged.\")\n",
        "except Exception as e:\n",
        "    logging.error(f\"An unexpected error occurred during file handling for '{file_path}': {e}\")\n",
        "    print(f\"An unexpected error occurred during file handling for '{file_path}'. Details logged.\")"
      ],
      "metadata": {
        "colab": {
          "base_uri": "https://localhost:8080/"
        },
        "id": "7sKkG-ZG6kdq",
        "outputId": "5d255daf-d650-432f-b7a4-0c5ba518dfcc"
      },
      "execution_count": 50,
      "outputs": [
        {
          "output_type": "stream",
          "name": "stderr",
          "text": [
            "ERROR:root:File not found error occurred while trying to access 'non_existent_or_problematic_file.txt'.\n"
          ]
        },
        {
          "output_type": "stream",
          "name": "stdout",
          "text": [
            "Error: The file 'non_existent_or_problematic_file.txt' was not found. Details logged.\n"
          ]
        }
      ]
    }
  ]
}